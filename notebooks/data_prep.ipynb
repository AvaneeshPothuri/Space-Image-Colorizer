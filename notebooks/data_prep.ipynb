{
 "cells": [
  {
   "cell_type": "code",
   "execution_count": 5,
   "id": "45263dc6",
   "metadata": {},
   "outputs": [
    {
     "name": "stdout",
     "output_type": "stream",
     "text": [
      "Collecting scikit-learn\n",
      "  Using cached scikit_learn-1.6.1-cp312-cp312-win_amd64.whl.metadata (15 kB)\n",
      "Requirement already satisfied: numpy>=1.19.5 in c:\\users\\avane\\onedrive\\desktop\\space image colorizer\\venv\\lib\\site-packages (from scikit-learn) (2.2.6)\n",
      "Requirement already satisfied: scipy>=1.6.0 in c:\\users\\avane\\onedrive\\desktop\\space image colorizer\\venv\\lib\\site-packages (from scikit-learn) (1.15.3)\n",
      "Collecting joblib>=1.2.0 (from scikit-learn)\n",
      "  Downloading joblib-1.5.1-py3-none-any.whl.metadata (5.6 kB)\n",
      "Collecting threadpoolctl>=3.1.0 (from scikit-learn)\n",
      "  Using cached threadpoolctl-3.6.0-py3-none-any.whl.metadata (13 kB)\n",
      "Using cached scikit_learn-1.6.1-cp312-cp312-win_amd64.whl (11.1 MB)\n",
      "Downloading joblib-1.5.1-py3-none-any.whl (307 kB)\n",
      "Using cached threadpoolctl-3.6.0-py3-none-any.whl (18 kB)\n",
      "Installing collected packages: threadpoolctl, joblib, scikit-learn\n",
      "Successfully installed joblib-1.5.1 scikit-learn-1.6.1 threadpoolctl-3.6.0\n"
     ]
    },
    {
     "name": "stderr",
     "output_type": "stream",
     "text": [
      "\n",
      "[notice] A new release of pip is available: 24.2 -> 25.1.1\n",
      "[notice] To update, run: python.exe -m pip install --upgrade pip\n"
     ]
    }
   ],
   "source": [
    "!pip install scikit-learn"
   ]
  },
  {
   "cell_type": "code",
   "execution_count": 6,
   "id": "d574ad9d",
   "metadata": {},
   "outputs": [],
   "source": [
    "import os\n",
    "import cv2\n",
    "import numpy as np\n",
    "from sklearn.model_selection import train_test_split"
   ]
  },
  {
   "cell_type": "markdown",
   "id": "50a6f0c0",
   "metadata": {},
   "source": [
    "Defining Paths"
   ]
  },
  {
   "cell_type": "code",
   "execution_count": 13,
   "id": "8b010a3f",
   "metadata": {},
   "outputs": [],
   "source": [
    "raw_folder = os.path.abspath('../data/raw')\n",
    "processed_folder = os.path.abspath('../data/processed')\n",
    "os.makedirs(processed_folder, exist_ok=True)"
   ]
  },
  {
   "cell_type": "markdown",
   "id": "87146629",
   "metadata": {},
   "source": [
    "Checking the images"
   ]
  },
  {
   "cell_type": "code",
   "execution_count": 14,
   "id": "1b65abdb",
   "metadata": {},
   "outputs": [
    {
     "name": "stdout",
     "output_type": "stream",
     "text": [
      "Found 529 images.\n"
     ]
    }
   ],
   "source": [
    "image_files = [f for f in os.listdir(raw_folder) if f.lower().endswith(('.png', '.jpg', '.jpeg'))]\n",
    "print(f\"Found {len(image_files)} images.\")"
   ]
  },
  {
   "cell_type": "markdown",
   "id": "02c0f25e",
   "metadata": {},
   "source": [
    "Train and Test Split"
   ]
  },
  {
   "cell_type": "code",
   "execution_count": 15,
   "id": "1e071c89",
   "metadata": {},
   "outputs": [
    {
     "name": "stdout",
     "output_type": "stream",
     "text": [
      "Training images: 423, Validation images: 106\n"
     ]
    }
   ],
   "source": [
    "train_files, val_files = train_test_split(image_files, test_size=0.2, random_state=42)\n",
    "print(f\"Training images: {len(train_files)}, Validation images: {len(val_files)}\")"
   ]
  },
  {
   "cell_type": "markdown",
   "id": "7f2cbe5d",
   "metadata": {},
   "source": [
    "Create Folders for Processed Data"
   ]
  },
  {
   "cell_type": "code",
   "execution_count": 16,
   "id": "009ff338",
   "metadata": {},
   "outputs": [],
   "source": [
    "for split in ['train', 'val']:\n",
    "    for mode in ['color', 'gray']:\n",
    "        os.makedirs(os.path.join(processed_folder, split, mode), exist_ok=True)"
   ]
  },
  {
   "cell_type": "markdown",
   "id": "1fe3dc98",
   "metadata": {},
   "source": [
    "Process and Save Images"
   ]
  },
  {
   "cell_type": "code",
   "execution_count": 17,
   "id": "488afcd1",
   "metadata": {},
   "outputs": [],
   "source": [
    "for split, files in [('train', train_files), ('val', val_files)]:\n",
    "    for idx, img_file in enumerate(files):\n",
    "        # Read image\n",
    "        img_path = os.path.join(raw_folder, img_file)\n",
    "        color = cv2.imread(img_path)\n",
    "        if color is None:\n",
    "            print(f\"Could not read {img_file}. Skipping...\")\n",
    "            continue\n",
    "        \n",
    "        # Resize to 256x256\n",
    "        color = cv2.resize(color, (256, 256))\n",
    "        \n",
    "        # Convert to grayscale\n",
    "        gray = cv2.cvtColor(color, cv2.COLOR_BGR2GRAY)\n",
    "        \n",
    "        # Save color and grayscale images\n",
    "        base_name = os.path.splitext(img_file)[0]\n",
    "        cv2.imwrite(os.path.join(processed_folder, split, 'color', f\"{idx}.png\"), color)\n",
    "        cv2.imwrite(os.path.join(processed_folder, split, 'gray', f\"{idx}.png\"), gray)"
   ]
  }
 ],
 "metadata": {
  "kernelspec": {
   "display_name": "venv",
   "language": "python",
   "name": "python3"
  },
  "language_info": {
   "codemirror_mode": {
    "name": "ipython",
    "version": 3
   },
   "file_extension": ".py",
   "mimetype": "text/x-python",
   "name": "python",
   "nbconvert_exporter": "python",
   "pygments_lexer": "ipython3",
   "version": "3.12.7"
  }
 },
 "nbformat": 4,
 "nbformat_minor": 5
}
